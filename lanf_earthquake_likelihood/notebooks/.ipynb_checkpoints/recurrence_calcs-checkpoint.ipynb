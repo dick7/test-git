{
 "metadata": {
  "name": ""
 },
 "nbformat": 3,
 "nbformat_minor": 0,
 "worksheets": [
  {
   "cells": [
    {
     "cell_type": "markdown",
     "metadata": {},
     "source": [
      "# Attempting to calculate recurrence intervals between events"
     ]
    },
    {
     "cell_type": "markdown",
     "metadata": {},
     "source": [
      "### Setting up the problem"
     ]
    },
    {
     "cell_type": "markdown",
     "metadata": {},
     "source": [
      "#### Import necessary modules"
     ]
    },
    {
     "cell_type": "code",
     "collapsed": false,
     "input": [
      "%pylab inline\n",
      "%config InlineBackend.figure_format = 'retina'"
     ],
     "language": "python",
     "metadata": {},
     "outputs": [
      {
       "output_type": "stream",
       "stream": "stdout",
       "text": [
        "Populating the interactive namespace from numpy and matplotlib\n"
       ]
      }
     ],
     "prompt_number": 1
    },
    {
     "cell_type": "code",
     "collapsed": false,
     "input": [
      "figsize(12, 9)"
     ],
     "language": "python",
     "metadata": {},
     "outputs": [],
     "prompt_number": 2
    },
    {
     "cell_type": "code",
     "collapsed": false,
     "input": [
      "import sys\n",
      "sys.path.append('../eq_stats')\n",
      "\n",
      "import numpy as np\n",
      "import pandas as pd\n",
      "import eq_stats as eqs\n",
      "import time\n",
      "from joblib import Parallel, delayed\n",
      "from itertools import chain\n",
      "\n",
      "import json"
     ],
     "language": "python",
     "metadata": {},
     "outputs": [],
     "prompt_number": 19
    },
    {
     "cell_type": "code",
     "collapsed": false,
     "input": [
      "#from numba import autojit"
     ],
     "language": "python",
     "metadata": {},
     "outputs": [],
     "prompt_number": 2
    },
    {
     "cell_type": "markdown",
     "metadata": {},
     "source": [
      "#### Read in fault data table\n",
      "\n",
      "Makes a Pandas dataframe of fault data (length, slip rates, etc.)"
     ]
    },
    {
     "cell_type": "code",
     "collapsed": false,
     "input": [
      "f = pd.read_csv('../data/lanf_stats.csv', index_col=0)"
     ],
     "language": "python",
     "metadata": {},
     "outputs": [],
     "prompt_number": 4
    },
    {
     "cell_type": "code",
     "collapsed": false,
     "input": [
      "f"
     ],
     "language": "python",
     "metadata": {},
     "outputs": [
      {
       "html": [
        "<div style=\"max-height:1000px;max-width:1500px;overflow:auto;\">\n",
        "<table border=\"1\" class=\"dataframe\">\n",
        "  <thead>\n",
        "    <tr style=\"text-align: right;\">\n",
        "      <th></th>\n",
        "      <th>region</th>\n",
        "      <th>L_km</th>\n",
        "      <th>z_km</th>\n",
        "      <th>slip_rate_mm_a</th>\n",
        "      <th>sr_err_mm_a</th>\n",
        "      <th>dip_deg</th>\n",
        "      <th>dip_err_deg</th>\n",
        "    </tr>\n",
        "    <tr>\n",
        "      <th>fault</th>\n",
        "      <th></th>\n",
        "      <th></th>\n",
        "      <th></th>\n",
        "      <th></th>\n",
        "      <th></th>\n",
        "      <th></th>\n",
        "      <th></th>\n",
        "    </tr>\n",
        "  </thead>\n",
        "  <tbody>\n",
        "    <tr>\n",
        "      <th>kongur_shan</th>\n",
        "      <td>   tibet</td>\n",
        "      <td> 147</td>\n",
        "      <td> 10.0</td>\n",
        "      <td> 6.5</td>\n",
        "      <td> 2.0</td>\n",
        "      <td> 30.0</td>\n",
        "      <td> 10.0</td>\n",
        "    </tr>\n",
        "    <tr>\n",
        "      <th>leo_pargil</th>\n",
        "      <td>   tibet</td>\n",
        "      <td>  56</td>\n",
        "      <td> 10.0</td>\n",
        "      <td> 1.0</td>\n",
        "      <td> 0.8</td>\n",
        "      <td> 25.0</td>\n",
        "      <td> 10.0</td>\n",
        "    </tr>\n",
        "    <tr>\n",
        "      <th>gurla_mandhata</th>\n",
        "      <td>   tibet</td>\n",
        "      <td>  44</td>\n",
        "      <td> 10.0</td>\n",
        "      <td> 4.5</td>\n",
        "      <td> 2.0</td>\n",
        "      <td> 33.0</td>\n",
        "      <td> 10.0</td>\n",
        "    </tr>\n",
        "    <tr>\n",
        "      <th>s_lunggar</th>\n",
        "      <td>   tibet</td>\n",
        "      <td>  20</td>\n",
        "      <td> 10.0</td>\n",
        "      <td> 2.5</td>\n",
        "      <td> 0.5</td>\n",
        "      <td> 22.0</td>\n",
        "      <td>  5.0</td>\n",
        "    </tr>\n",
        "    <tr>\n",
        "      <th>n_lunggar</th>\n",
        "      <td>   tibet</td>\n",
        "      <td>  32</td>\n",
        "      <td> 10.0</td>\n",
        "      <td> 2.0</td>\n",
        "      <td> 1.0</td>\n",
        "      <td> 25.0</td>\n",
        "      <td>  5.0</td>\n",
        "    </tr>\n",
        "    <tr>\n",
        "      <th>pqx_qingdu</th>\n",
        "      <td>   tibet</td>\n",
        "      <td>  15</td>\n",
        "      <td> 10.0</td>\n",
        "      <td> 1.0</td>\n",
        "      <td> 0.5</td>\n",
        "      <td> 30.0</td>\n",
        "      <td>  5.0</td>\n",
        "    </tr>\n",
        "    <tr>\n",
        "      <th>pqx_n</th>\n",
        "      <td>   tibet</td>\n",
        "      <td>  11</td>\n",
        "      <td> 10.0</td>\n",
        "      <td> 1.0</td>\n",
        "      <td> 0.5</td>\n",
        "      <td> 25.0</td>\n",
        "      <td>  7.5</td>\n",
        "    </tr>\n",
        "    <tr>\n",
        "      <th>nqtl</th>\n",
        "      <td>   tibet</td>\n",
        "      <td> 115</td>\n",
        "      <td> 10.0</td>\n",
        "      <td> 2.5</td>\n",
        "      <td> 1.5</td>\n",
        "      <td> 30.0</td>\n",
        "      <td>  8.0</td>\n",
        "    </tr>\n",
        "    <tr>\n",
        "      <th>alto_tiberina</th>\n",
        "      <td>   italy</td>\n",
        "      <td>  60</td>\n",
        "      <td>  4.0</td>\n",
        "      <td> 2.4</td>\n",
        "      <td> 0.3</td>\n",
        "      <td> 25.0</td>\n",
        "      <td>  5.0</td>\n",
        "    </tr>\n",
        "    <tr>\n",
        "      <th>death_valley</th>\n",
        "      <td>    w_us</td>\n",
        "      <td>  38</td>\n",
        "      <td> 10.0</td>\n",
        "      <td> 2.0</td>\n",
        "      <td> 1.0</td>\n",
        "      <td> 27.5</td>\n",
        "      <td>  8.5</td>\n",
        "    </tr>\n",
        "    <tr>\n",
        "      <th>panamint_valley</th>\n",
        "      <td>    w_us</td>\n",
        "      <td>  58</td>\n",
        "      <td> 10.0</td>\n",
        "      <td> 3.5</td>\n",
        "      <td> 1.5</td>\n",
        "      <td> 20.0</td>\n",
        "      <td> 10.0</td>\n",
        "    </tr>\n",
        "    <tr>\n",
        "      <th>canada_david</th>\n",
        "      <td>    w_us</td>\n",
        "      <td>  20</td>\n",
        "      <td> 10.0</td>\n",
        "      <td> 3.0</td>\n",
        "      <td> 2.0</td>\n",
        "      <td> 20.0</td>\n",
        "      <td> 10.0</td>\n",
        "    </tr>\n",
        "    <tr>\n",
        "      <th>sevier_desert</th>\n",
        "      <td>    w_us</td>\n",
        "      <td>  98</td>\n",
        "      <td>  8.5</td>\n",
        "      <td> 2.5</td>\n",
        "      <td> 1.0</td>\n",
        "      <td> 13.5</td>\n",
        "      <td>  1.5</td>\n",
        "    </tr>\n",
        "    <tr>\n",
        "      <th>dixie_valley</th>\n",
        "      <td>    w_us</td>\n",
        "      <td>  21</td>\n",
        "      <td> 10.0</td>\n",
        "      <td> 0.6</td>\n",
        "      <td> 0.4</td>\n",
        "      <td> 20.0</td>\n",
        "      <td> 10.0</td>\n",
        "    </tr>\n",
        "    <tr>\n",
        "      <th>dayman_dome</th>\n",
        "      <td> se_asia</td>\n",
        "      <td>  80</td>\n",
        "      <td> 10.0</td>\n",
        "      <td> 5.0</td>\n",
        "      <td> 4.8</td>\n",
        "      <td> 20.0</td>\n",
        "      <td> 10.0</td>\n",
        "    </tr>\n",
        "    <tr>\n",
        "      <th>papangeo</th>\n",
        "      <td> se_asia</td>\n",
        "      <td>  27</td>\n",
        "      <td> 10.0</td>\n",
        "      <td> 5.0</td>\n",
        "      <td> 4.8</td>\n",
        "      <td> 20.0</td>\n",
        "      <td> 10.0</td>\n",
        "    </tr>\n",
        "    <tr>\n",
        "      <th>tokorondo</th>\n",
        "      <td> se_asia</td>\n",
        "      <td>  72</td>\n",
        "      <td> 10.0</td>\n",
        "      <td> 5.0</td>\n",
        "      <td> 4.8</td>\n",
        "      <td> 10.0</td>\n",
        "      <td>  8.0</td>\n",
        "    </tr>\n",
        "    <tr>\n",
        "      <th>cordillera_blanca</th>\n",
        "      <td>   andes</td>\n",
        "      <td> 100</td>\n",
        "      <td> 10.0</td>\n",
        "      <td> 6.0</td>\n",
        "      <td> 4.0</td>\n",
        "      <td> 30.0</td>\n",
        "      <td> 10.0</td>\n",
        "    </tr>\n",
        "    <tr>\n",
        "      <th>kuzey</th>\n",
        "      <td>  turkey</td>\n",
        "      <td> 130</td>\n",
        "      <td> 10.0</td>\n",
        "      <td> 1.0</td>\n",
        "      <td> 0.9</td>\n",
        "      <td> 17.0</td>\n",
        "      <td>  2.0</td>\n",
        "    </tr>\n",
        "    <tr>\n",
        "      <th>guney</th>\n",
        "      <td>  turkey</td>\n",
        "      <td> 124</td>\n",
        "      <td> 10.0</td>\n",
        "      <td> 1.0</td>\n",
        "      <td> 0.9</td>\n",
        "      <td>  7.0</td>\n",
        "      <td>  7.0</td>\n",
        "    </tr>\n",
        "  </tbody>\n",
        "</table>\n",
        "</div>"
       ],
       "metadata": {},
       "output_type": "pyout",
       "prompt_number": 5,
       "text": [
        "                    region  L_km  z_km  slip_rate_mm_a  sr_err_mm_a  dip_deg  \\\n",
        "fault                                                                          \n",
        "kongur_shan          tibet   147  10.0             6.5          2.0     30.0   \n",
        "leo_pargil           tibet    56  10.0             1.0          0.8     25.0   \n",
        "gurla_mandhata       tibet    44  10.0             4.5          2.0     33.0   \n",
        "s_lunggar            tibet    20  10.0             2.5          0.5     22.0   \n",
        "n_lunggar            tibet    32  10.0             2.0          1.0     25.0   \n",
        "pqx_qingdu           tibet    15  10.0             1.0          0.5     30.0   \n",
        "pqx_n                tibet    11  10.0             1.0          0.5     25.0   \n",
        "nqtl                 tibet   115  10.0             2.5          1.5     30.0   \n",
        "alto_tiberina        italy    60   4.0             2.4          0.3     25.0   \n",
        "death_valley          w_us    38  10.0             2.0          1.0     27.5   \n",
        "panamint_valley       w_us    58  10.0             3.5          1.5     20.0   \n",
        "canada_david          w_us    20  10.0             3.0          2.0     20.0   \n",
        "sevier_desert         w_us    98   8.5             2.5          1.0     13.5   \n",
        "dixie_valley          w_us    21  10.0             0.6          0.4     20.0   \n",
        "dayman_dome        se_asia    80  10.0             5.0          4.8     20.0   \n",
        "papangeo           se_asia    27  10.0             5.0          4.8     20.0   \n",
        "tokorondo          se_asia    72  10.0             5.0          4.8     10.0   \n",
        "cordillera_blanca    andes   100  10.0             6.0          4.0     30.0   \n",
        "kuzey               turkey   130  10.0             1.0          0.9     17.0   \n",
        "guney               turkey   124  10.0             1.0          0.9      7.0   \n",
        "\n",
        "                   dip_err_deg  \n",
        "fault                           \n",
        "kongur_shan               10.0  \n",
        "leo_pargil                10.0  \n",
        "gurla_mandhata            10.0  \n",
        "s_lunggar                  5.0  \n",
        "n_lunggar                  5.0  \n",
        "pqx_qingdu                 5.0  \n",
        "pqx_n                      7.5  \n",
        "nqtl                       8.0  \n",
        "alto_tiberina              5.0  \n",
        "death_valley               8.5  \n",
        "panamint_valley           10.0  \n",
        "canada_david              10.0  \n",
        "sevier_desert              1.5  \n",
        "dixie_valley              10.0  \n",
        "dayman_dome               10.0  \n",
        "papangeo                  10.0  \n",
        "tokorondo                  8.0  \n",
        "cordillera_blanca         10.0  \n",
        "kuzey                      2.0  \n",
        "guney                      7.0  "
       ]
      }
     ],
     "prompt_number": 5
    },
    {
     "cell_type": "markdown",
     "metadata": {},
     "source": [
      "#### Define some variables to be used later"
     ]
    },
    {
     "cell_type": "code",
     "collapsed": false,
     "input": [
      "n_eq_samp = 2e4 # number of earthquakes in time series\n",
      "time_window = np.hstack( (1, np.arange(5, 105, step=5) ) ) # observation times\n",
      "mc_iters = 1e1 # number of Monte Carlo iterations\n",
      "mc_index = np.arange(mc_iters, dtype='int')\n",
      "mc_cols = ['dip', 'Ddot'] + [t for t in time_window]\n",
      "max_eq_slip = 15 #m\n",
      "Mc = 7.64 # Hypothetical corner magnitude for Continental Rift Boundaries"
     ],
     "language": "python",
     "metadata": {},
     "outputs": [],
     "prompt_number": 37
    },
    {
     "cell_type": "markdown",
     "metadata": {},
     "source": [
      "Make list of minimum search magnitude $M_{min}$, and then make MultiIndex for Pandas dataframes"
     ]
    },
    {
     "cell_type": "code",
     "collapsed": false,
     "input": [
      "min_M_list = [5, 5.5, 6, 6.5, 7, 7.5]\n",
      "\n",
      "df_ind_tuples = [[i, M] for i in mc_index for M in min_M_list]\n",
      "df_multi_ind = pd.MultiIndex.from_tuples(df_ind_tuples, names=['mc_iter','M'])\n",
      "\n",
      "rec_int_bins = np.logspace(1, 5)"
     ],
     "language": "python",
     "metadata": {},
     "outputs": [],
     "prompt_number": 24
    },
    {
     "cell_type": "markdown",
     "metadata": {},
     "source": [
      "#### Define a function for Joblib Parallel to calculate probabilities for each iteration.\n",
      "\n",
      "Function is defined here so it can access all variables generated by script, not just passed variables.  This makes the code cleaner even if it's not very abstracted.\n",
      "\n",
      "Here is what this function does:\n",
      "\n",
      "- Get the dip, Ddot and maximum earthquake magnitude for each iteration.\n",
      "- Take this info and make the earthquake sequence:\n",
      "    - Take the max earthquake magnitude and make a frequency-magnitude distribution based on a Gutenburg-Richter exponential model.\n",
      "    - Take 20k samples from this distribution, \n",
      "- Make an earthquake time series form the EQ sequence\n",
      "    - Calculate the interseismic strain accumulation time for each event\n",
      "    - Separate each earthquake in the sequence with the appropriate number of years with no events.\n",
      "- Calculate the probability of observation\n",
      "    - Run a rolling maximum for each $t$ in [1, 5, 10, 15, ..., 95, 100]\n",
      "    - Calculate the observation probability above $M_{min}$ in [5, 5.5, 6, 6.5, 7, 7.5]"
     ]
    },
    {
     "cell_type": "code",
     "collapsed": false,
     "input": [
      "def calc_iter_probs(iter):\n",
      "    df_iter = fdf.loc[iter].copy()\n",
      "    df_iter['dip'] = mc_d['dip_samp'][iter]\n",
      "    df_iter['Ddot'] = mc_d['Ddot_samp'][iter]\n",
      "\n",
      "    # Generate EQ sample/sequence from F(M) dist.\n",
      "    m_vec = np.linspace(5, mc_d['max_M'][iter], num=1000)\n",
      "    fm_vec = eqs.F(m_vec, Mc=Mc)\n",
      "    M_samp = eqs.sample_from_pdf(m_vec, fm_vec, n_eq_samp)\n",
      "    Mo_samp = eqs.calc_Mo_from_M(M_samp)\n",
      "    \n",
      "    # Make time series of earthquakes, including no eq years\n",
      "    recur_int = eqs.calc_recurrence_interval(Mo=Mo_samp, \n",
      "                                             dip=mc_d['dip_samp'][iter],\n",
      "                                             slip_rate=mc_d['Ddot_samp'][iter],\n",
      "                                             L=params['L_km'],\n",
      "                                             z=params['z_km'])\n",
      "\n",
      "    cum_yrs = eqs.calc_cumulative_yrs(recur_int)\n",
      "    eq_series = eqs.make_eq_time_series(M_samp, cum_yrs)\n",
      "    \n",
      "    # calculate probability of observing EQ in time_window\n",
      "    for t in time_window:\n",
      "        roll_max = pd.rolling_max(eq_series, t)\n",
      "        df_iter[t] = (eqs.get_probability_above_value(roll_max, min_M_list)\n",
      "                      * mc_d['dip_frac'])\n",
      "        \n",
      "    # calculate histgrams of recurrence intervals\n",
      "    rec_int_counts_df = rec_int_df.loc[iter].copy()\n",
      "    for mm in min_M_list:\n",
      "        ints = np.diff( np.where(eq_series >= mm) )\n",
      "        rec_int_counts_df.loc[mm] = np.histogram(ints, bins=rec_int_bins)[0]\n",
      "        \n",
      "\n",
      "    return df_iter, rec_int_counts_df"
     ],
     "language": "python",
     "metadata": {},
     "outputs": [],
     "prompt_number": 45
    },
    {
     "cell_type": "markdown",
     "metadata": {},
     "source": [
      "#### Iterate through the faults in the fault database, doing all the calculations for each.\n",
      "\n",
      "The setup of this for loop is basically this:\n",
      "\n",
      "- Make DataFrame for each fault.\n",
      "    - Columns are dip, Ddot, and observation time windows.\n",
      "    - Rows are values for each Monte Carlo iteration.  Values for time windows are calculated probabilities.\n",
      "    \n",
      "- Calculate maximum earthquake magnitude for each MC iteration.\n",
      "\n",
      "- Run the above 'calc_iter_probs' function (parallelized over the MC iterations) and concatenate the results"
     ]
    },
    {
     "cell_type": "code",
     "collapsed": false,
     "input": [
      "t_init = time.time()\n",
      "\n",
      "for fault in list(['s_lunggar']):\n",
      "    fdf = pd.DataFrame(index=df_multi_ind, columns=mc_cols, dtype='float')\n",
      "    params = f.loc[fault]\n",
      "    mc_d = {}\n",
      "    mc_d['dip_samp'], mc_d['dip_frac'] = eqs.dip_rand_samp( params['dip_deg'], \n",
      "                                                         params['dip_err_deg'], \n",
      "                                                         mc_iters)\n",
      "\n",
      "    mc_d['Ddot_samp'] = eqs.Ddot_rand_samp(params['slip_rate_mm_a'],\n",
      "                                           params['sr_err_mm_a'], mc_iters)\n",
      "\n",
      "    mc_d['max_Mo'] = eqs.calc_Mo_from_fault_params(L=params['L_km'], \n",
      "                                                   z=params['z_km'], \n",
      "                                                   dip=mc_d['dip_samp'], \n",
      "                                                   D=max_eq_slip)\n",
      "\n",
      "    mc_d['max_M'] = eqs.calc_M_from_Mo(mc_d['max_Mo'])\n",
      "    \n",
      "    rec_int_df = pd.DataFrame(columns = rec_int_bins[1:],\n",
      "                              index=df_multi_ind, dtype='float')\n",
      "\n",
      "    t0 = time.time()\n",
      "    \n",
      "    out_list = Parallel(n_jobs=1)( delayed( calc_iter_probs)(ii) \n",
      "                                    for ii in mc_index)\n",
      "    print 'done with', fault, 'parallel calcs in {} s'.format((time.time()-t0))\n",
      "    for ii in mc_index:\n",
      "        fdf.loc[ii][:] = out_list[ii][0]\n",
      "        rec_int_df.loc[ii][:] = out_list[ii][1]\n",
      "        \n",
      "    #rec_int_df.to_csv(\n",
      "    #fdf.to_csv('../results/{}_test.csv'.format(fault))\n",
      "    \n",
      "    \n",
      "#print 'done with all faults in {} s'.format((time.time()-t_init))"
     ],
     "language": "python",
     "metadata": {},
     "outputs": [
      {
       "output_type": "stream",
       "stream": "stdout",
       "text": [
        "done with s_lunggar parallel calcs in 6.40777301788 s\n"
       ]
      }
     ],
     "prompt_number": 57
    },
    {
     "cell_type": "markdown",
     "metadata": {},
     "source": [
      "\n"
     ]
    },
    {
     "cell_type": "code",
     "collapsed": false,
     "input": [
      "rec_int_df.loc[ii].loc[7.0]"
     ],
     "language": "python",
     "metadata": {},
     "outputs": [
      {
       "metadata": {},
       "output_type": "pyout",
       "prompt_number": 60,
       "text": [
        "12.067926         0\n",
        "14.563485         0\n",
        "17.575106         0\n",
        "21.209509         0\n",
        "25.595479         0\n",
        "30.888436         0\n",
        "37.275937         0\n",
        "44.984327         0\n",
        "54.286754         0\n",
        "65.512856         0\n",
        "79.060432         0\n",
        "95.409548         0\n",
        "115.139540        0\n",
        "138.949549        0\n",
        "167.683294        0\n",
        "202.358965        0\n",
        "244.205309        0\n",
        "294.705170        0\n",
        "355.648031        0\n",
        "429.193426        0\n",
        "517.947468        0\n",
        "625.055193        0\n",
        "754.312006        1\n",
        "910.298178        6\n",
        "1098.541142       5\n",
        "1325.711366       9\n",
        "1599.858720      16\n",
        "1930.697729      18\n",
        "2329.951811      21\n",
        "2811.768698      19\n",
        "3393.221772      24\n",
        "4094.915062      16\n",
        "4941.713361      17\n",
        "5963.623317      15\n",
        "7196.856730      12\n",
        "8685.113738       2\n",
        "10481.131342      2\n",
        "12648.552169      0\n",
        "15264.179672      1\n",
        "18420.699693      0\n",
        "22229.964825      0\n",
        "26826.957953      0\n",
        "32374.575428      0\n",
        "39069.399371      0\n",
        "47148.663635      0\n",
        "56898.660290      0\n",
        "68664.884500      0\n",
        "82864.277285      0\n",
        "100000.000000     0\n",
        "Name: 7.0, dtype: float64"
       ]
      }
     ],
     "prompt_number": 60
    },
    {
     "cell_type": "markdown",
     "metadata": {},
     "source": [
      "\n",
      "\n",
      "\n"
     ]
    },
    {
     "cell_type": "code",
     "collapsed": false,
     "input": [
      "out = Parallel(n_jobs=1)( delayed( calc_iter_probs)(ii) \n",
      "                                    for ii in mc_index)"
     ],
     "language": "python",
     "metadata": {},
     "outputs": [],
     "prompt_number": 48
    },
    {
     "cell_type": "code",
     "collapsed": false,
     "input": [
      "out[0][0]"
     ],
     "language": "python",
     "metadata": {},
     "outputs": [
      {
       "html": [
        "<pre>\n",
        "&lt;class 'pandas.core.frame.DataFrame'&gt;\n",
        "Float64Index: 6 entries, 5.0 to 7.5\n",
        "Data columns (total 23 columns):\n",
        "dip     6  non-null values\n",
        "Ddot    6  non-null values\n",
        "1       6  non-null values\n",
        "5       6  non-null values\n",
        "10      6  non-null values\n",
        "15      6  non-null values\n",
        "20      6  non-null values\n",
        "25      6  non-null values\n",
        "30      6  non-null values\n",
        "35      6  non-null values\n",
        "40      6  non-null values\n",
        "45      6  non-null values\n",
        "50      6  non-null values\n",
        "55      6  non-null values\n",
        "60      6  non-null values\n",
        "65      6  non-null values\n",
        "70      6  non-null values\n",
        "75      6  non-null values\n",
        "80      6  non-null values\n",
        "85      6  non-null values\n",
        "90      6  non-null values\n",
        "95      6  non-null values\n",
        "100     6  non-null values\n",
        "dtypes: float64(23)\n",
        "</pre>"
       ],
       "metadata": {},
       "output_type": "pyout",
       "prompt_number": 50,
       "text": [
        "<class 'pandas.core.frame.DataFrame'>\n",
        "Float64Index: 6 entries, 5.0 to 7.5\n",
        "Data columns (total 23 columns):\n",
        "dip     6  non-null values\n",
        "Ddot    6  non-null values\n",
        "1       6  non-null values\n",
        "5       6  non-null values\n",
        "10      6  non-null values\n",
        "15      6  non-null values\n",
        "20      6  non-null values\n",
        "25      6  non-null values\n",
        "30      6  non-null values\n",
        "35      6  non-null values\n",
        "40      6  non-null values\n",
        "45      6  non-null values\n",
        "50      6  non-null values\n",
        "55      6  non-null values\n",
        "60      6  non-null values\n",
        "65      6  non-null values\n",
        "70      6  non-null values\n",
        "75      6  non-null values\n",
        "80      6  non-null values\n",
        "85      6  non-null values\n",
        "90      6  non-null values\n",
        "95      6  non-null values\n",
        "100     6  non-null values\n",
        "dtypes: float64(23)"
       ]
      }
     ],
     "prompt_number": 50
    },
    {
     "cell_type": "code",
     "collapsed": false,
     "input": [],
     "language": "python",
     "metadata": {},
     "outputs": []
    },
    {
     "cell_type": "code",
     "collapsed": false,
     "input": [],
     "language": "python",
     "metadata": {},
     "outputs": []
    },
    {
     "cell_type": "code",
     "collapsed": false,
     "input": [
      "for fault in list(['s_lunggar']):\n",
      "    fdf = pd.DataFrame(index=df_multi_ind, columns=mc_cols, dtype='float')\n",
      "    params = f.loc[fault]\n",
      "    mc_d = {}\n",
      "    mc_d['dip_samp'], mc_d['dip_frac'] = eqs.dip_rand_samp( params['dip_deg'], \n",
      "                                                         params['dip_err_deg'], \n",
      "                                                         mc_iters)\n",
      "\n",
      "    mc_d['Ddot_samp'] = eqs.Ddot_rand_samp(params['slip_rate_mm_a'],\n",
      "                                           params['sr_err_mm_a'], mc_iters)\n",
      "\n",
      "    mc_d['max_Mo'] = eqs.calc_Mo_from_fault_params(L=params['L_km'], \n",
      "                                                   z=params['z_km'], \n",
      "                                                   dip=mc_d['dip_samp'], \n",
      "                                                   D=max_eq_slip)\n",
      "\n",
      "    mc_d['max_M'] = eqs.calc_M_from_Mo(mc_d['max_Mo'])\n",
      "    \n",
      "    eq_series = calc_iter_probs(0)"
     ],
     "language": "python",
     "metadata": {},
     "outputs": [],
     "prompt_number": 10
    },
    {
     "cell_type": "code",
     "collapsed": false,
     "input": [],
     "language": "python",
     "metadata": {},
     "outputs": []
    },
    {
     "cell_type": "code",
     "collapsed": false,
     "input": [
      "eq_series.shape"
     ],
     "language": "python",
     "metadata": {},
     "outputs": [
      {
       "metadata": {},
       "output_type": "pyout",
       "prompt_number": 11,
       "text": [
        "(696999,)"
       ]
      }
     ],
     "prompt_number": 11
    },
    {
     "cell_type": "code",
     "collapsed": false,
     "input": [
      "eq_series.nbytes * 500"
     ],
     "language": "python",
     "metadata": {},
     "outputs": [
      {
       "metadata": {},
       "output_type": "pyout",
       "prompt_number": 12,
       "text": [
        "2787996000"
       ]
      }
     ],
     "prompt_number": 12
    },
    {
     "cell_type": "code",
     "collapsed": false,
     "input": [
      "eq_series[eq_series.nonzero()].nbytes * 500"
     ],
     "language": "python",
     "metadata": {},
     "outputs": [
      {
       "metadata": {},
       "output_type": "pyout",
       "prompt_number": 14,
       "text": [
        "80000000"
       ]
      }
     ],
     "prompt_number": 14
    },
    {
     "cell_type": "code",
     "collapsed": false,
     "input": [
      "%%timeit \n",
      "np.where(eq_series >= 5.0)"
     ],
     "language": "python",
     "metadata": {},
     "outputs": [
      {
       "output_type": "stream",
       "stream": "stdout",
       "text": [
        "100 loops, best of 3: 4.95 ms per loop\n"
       ]
      }
     ],
     "prompt_number": 13
    },
    {
     "cell_type": "code",
     "collapsed": false,
     "input": [
      "%%timeit \n",
      "\n",
      "np.diff( np.where( eq_series >= 6.0)[0] )"
     ],
     "language": "python",
     "metadata": {},
     "outputs": [
      {
       "output_type": "stream",
       "stream": "stdout",
       "text": [
        "100 loops, best of 3: 4.82 ms per loop\n"
       ]
      }
     ],
     "prompt_number": 33
    },
    {
     "cell_type": "code",
     "collapsed": false,
     "input": [
      "M6_spacing = np.diff( np.where( eq_series >= 5.5)[0] )\n",
      "\n",
      "M6_spacing.shape"
     ],
     "language": "python",
     "metadata": {},
     "outputs": [
      {
       "metadata": {},
       "output_type": "pyout",
       "prompt_number": 16,
       "text": [
        "(6389,)"
       ]
      }
     ],
     "prompt_number": 16
    },
    {
     "cell_type": "code",
     "collapsed": false,
     "input": [
      "np.median(M6_spacing)"
     ],
     "language": "python",
     "metadata": {},
     "outputs": [
      {
       "metadata": {},
       "output_type": "pyout",
       "prompt_number": 52,
       "text": [
        "20.0"
       ]
      }
     ],
     "prompt_number": 52
    },
    {
     "cell_type": "code",
     "collapsed": false,
     "input": [
      "hist( M6_spacing, bins=np.logspace(1, 5 ) )\n",
      "gca().set_xscale(\"log\")\n",
      "show()"
     ],
     "language": "python",
     "metadata": {},
     "outputs": [
      {
       "metadata": {
        "png": {
         "height": 538,
         "width": 711
        }
       },
       "output_type": "display_data",
       "png": "[encoded data removed]",
       "text": [
        "<matplotlib.figure.Figure at 0x126cf0190>"
       ]
      }
     ],
     "prompt_number": 53
    },
    {
     "cell_type": "code",
     "collapsed": false,
     "input": [
      "np.histogram(M6_spacing, bins=np.logspace(1, 5 ))[0]"
     ],
     "language": "python",
     "metadata": {},
     "outputs": [
      {
       "metadata": {},
       "output_type": "pyout",
       "prompt_number": 25,
       "text": [
        "array([736, 429, 575, 557, 406, 329, 331, 233, 251, 183, 156, 132, 118,\n",
        "        97, 103,  72,  68,  56,  38,  53,  36,  32,  27,  25,  26,  26,\n",
        "        25,  22,  16,  13,  11,  18,   4,  10,   1,   0,   0,   0,   0,\n",
        "         0,   0,   0,   0,   0,   0,   0,   0,   0,   0])"
       ]
      }
     ],
     "prompt_number": 25
    },
    {
     "cell_type": "code",
     "collapsed": false,
     "input": [
      "nest_d = {}\n",
      "\n",
      "kk = 6\n",
      "\n",
      "nest_d[kk] = {7: 'ass'}"
     ],
     "language": "python",
     "metadata": {},
     "outputs": [],
     "prompt_number": 22
    },
    {
     "cell_type": "code",
     "collapsed": false,
     "input": [
      "nest_d"
     ],
     "language": "python",
     "metadata": {},
     "outputs": [
      {
       "metadata": {},
       "output_type": "pyout",
       "prompt_number": 23,
       "text": [
        "{6: {7: 'ass'}}"
       ]
      }
     ],
     "prompt_number": 23
    },
    {
     "cell_type": "code",
     "collapsed": false,
     "input": [
      "c_df = pd.DataFrame(columns=rec_int_bins[1:], index=np.arange(10) )"
     ],
     "language": "python",
     "metadata": {},
     "outputs": [],
     "prompt_number": 30
    },
    {
     "cell_type": "code",
     "collapsed": false,
     "input": [
      "c_df.iloc[0] = np.histogram(M6_spacing, bins=rec_int_bins)[0]"
     ],
     "language": "python",
     "metadata": {},
     "outputs": [],
     "prompt_number": 34
    },
    {
     "cell_type": "code",
     "collapsed": false,
     "input": [
      "c_df.iloc[0]"
     ],
     "language": "python",
     "metadata": {},
     "outputs": [
      {
       "metadata": {},
       "output_type": "pyout",
       "prompt_number": 36,
       "text": [
        "12.067926        736\n",
        "14.563485        429\n",
        "17.575106        575\n",
        "21.209509        557\n",
        "25.595479        406\n",
        "30.888436        329\n",
        "37.275937        331\n",
        "44.984327        233\n",
        "54.286754        251\n",
        "65.512856        183\n",
        "79.060432        156\n",
        "95.409548        132\n",
        "115.139540       118\n",
        "138.949549        97\n",
        "167.683294       103\n",
        "202.358965        72\n",
        "244.205309        68\n",
        "294.705170        56\n",
        "355.648031        38\n",
        "429.193426        53\n",
        "517.947468        36\n",
        "625.055193        32\n",
        "754.312006        27\n",
        "910.298178        25\n",
        "1098.541142       26\n",
        "1325.711366       26\n",
        "1599.858720       25\n",
        "1930.697729       22\n",
        "2329.951811       16\n",
        "2811.768698       13\n",
        "3393.221772       11\n",
        "4094.915062       18\n",
        "4941.713361        4\n",
        "5963.623317       10\n",
        "7196.856730        1\n",
        "8685.113738        0\n",
        "10481.131342       0\n",
        "12648.552169       0\n",
        "15264.179672       0\n",
        "18420.699693       0\n",
        "22229.964825       0\n",
        "26826.957953       0\n",
        "32374.575428       0\n",
        "39069.399371       0\n",
        "47148.663635       0\n",
        "56898.660290       0\n",
        "68664.884500       0\n",
        "82864.277285       0\n",
        "100000.000000      0\n",
        "Name: 0, dtype: object"
       ]
      }
     ],
     "prompt_number": 36
    },
    {
     "cell_type": "code",
     "collapsed": false,
     "input": [
      "rec_int_df = pd.DataFrame(columns = rec_int_bins[1:],\n",
      "                              index=df_multi_ind, dtype='float')"
     ],
     "language": "python",
     "metadata": {},
     "outputs": [],
     "prompt_number": 38
    },
    {
     "cell_type": "code",
     "collapsed": false,
     "input": [
      "rec_int_df.loc[0].iloc[0]"
     ],
     "language": "python",
     "metadata": {},
     "outputs": [
      {
       "metadata": {},
       "output_type": "pyout",
       "prompt_number": 41,
       "text": [
        "12.067926       NaN\n",
        "14.563485       NaN\n",
        "17.575106       NaN\n",
        "21.209509       NaN\n",
        "25.595479       NaN\n",
        "30.888436       NaN\n",
        "37.275937       NaN\n",
        "44.984327       NaN\n",
        "54.286754       NaN\n",
        "65.512856       NaN\n",
        "79.060432       NaN\n",
        "95.409548       NaN\n",
        "115.139540      NaN\n",
        "138.949549      NaN\n",
        "167.683294      NaN\n",
        "202.358965      NaN\n",
        "244.205309      NaN\n",
        "294.705170      NaN\n",
        "355.648031      NaN\n",
        "429.193426      NaN\n",
        "517.947468      NaN\n",
        "625.055193      NaN\n",
        "754.312006      NaN\n",
        "910.298178      NaN\n",
        "1098.541142     NaN\n",
        "1325.711366     NaN\n",
        "1599.858720     NaN\n",
        "1930.697729     NaN\n",
        "2329.951811     NaN\n",
        "2811.768698     NaN\n",
        "3393.221772     NaN\n",
        "4094.915062     NaN\n",
        "4941.713361     NaN\n",
        "5963.623317     NaN\n",
        "7196.856730     NaN\n",
        "8685.113738     NaN\n",
        "10481.131342    NaN\n",
        "12648.552169    NaN\n",
        "15264.179672    NaN\n",
        "18420.699693    NaN\n",
        "22229.964825    NaN\n",
        "26826.957953    NaN\n",
        "32374.575428    NaN\n",
        "39069.399371    NaN\n",
        "47148.663635    NaN\n",
        "56898.660290    NaN\n",
        "68664.884500    NaN\n",
        "82864.277285    NaN\n",
        "100000.000000   NaN\n",
        "Name: 5.0, dtype: float64"
       ]
      }
     ],
     "prompt_number": 41
    },
    {
     "cell_type": "code",
     "collapsed": false,
     "input": [],
     "language": "python",
     "metadata": {},
     "outputs": []
    }
   ],
   "metadata": {}
  }
 ]
}